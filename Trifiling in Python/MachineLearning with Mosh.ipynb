{
 "cells": [
  {
   "cell_type": "code",
   "execution_count": 109,
   "id": "2e6bb6ff",
   "metadata": {},
   "outputs": [
    {
     "data": {
      "text/plain": [
       "0.75"
      ]
     },
     "execution_count": 109,
     "metadata": {},
     "output_type": "execute_result"
    }
   ],
   "source": [
    "import pandas as pd\n",
    "from pathlib import Path\n",
    "from sklearn.tree import  DecisionTreeClassifier #package.module then class\n",
    "\n",
    "from sklearn.model_selection import train_test_split\n",
    "\n",
    "from sklearn.metrics import accuracy_score\n",
    "\n",
    "\n",
    "\n",
    "p = Path (\"/Users/lilbarbar/Desktop/music.csv\")\n",
    "music_data = pd.read_csv(p)\n",
    "X = music_data.drop (columns = [\"genre\"]) #drops (removes) that column from data sit for X\n",
    "Y = music_data[\"genre\"]\n",
    "\n",
    "\n",
    "\n",
    "X_train, X_test, Y_train, Y_test = train_test_split (X, Y, test_size=0.2)  #last is a keyword arguement for ammount for test(0.2 or 20%)\n",
    "\n",
    "\n",
    "model = DecisionTreeClassifier()\n",
    "model.fit(X_train,Y_train)\n",
    "\n",
    "\n",
    "\n",
    "\n",
    "\n",
    "\n",
    "\n",
    "#1 - male\n",
    "#0 - female\n",
    "predictions = model.predict ( X_test  )\n",
    "\n",
    "\n",
    "\n",
    "score = accuracy_score (Y_test, predictions)  #actual values, predicted values     ---> returns an accuracy score between 0 and 1\n",
    "score\n",
    "\n",
    "#70-80% of data for trqining, rest for testing"
   ]
  },
  {
   "cell_type": "code",
   "execution_count": 117,
   "id": "2bca2e50",
   "metadata": {},
   "outputs": [
    {
     "ename": "ImportError",
     "evalue": "cannot import name 'joblib' from 'sklearn.externals' (/Users/lilbarbar/anaconda3/lib/python3.10/site-packages/sklearn/externals/__init__.py)",
     "output_type": "error",
     "traceback": [
      "\u001b[0;31m---------------------------------------------------------------------------\u001b[0m",
      "\u001b[0;31mImportError\u001b[0m                               Traceback (most recent call last)",
      "Cell \u001b[0;32mIn[117], line 4\u001b[0m\n\u001b[1;32m      2\u001b[0m \u001b[38;5;28;01mfrom\u001b[39;00m \u001b[38;5;21;01mpathlib\u001b[39;00m \u001b[38;5;28;01mimport\u001b[39;00m Path\n\u001b[1;32m      3\u001b[0m \u001b[38;5;28;01mfrom\u001b[39;00m \u001b[38;5;21;01msklearn\u001b[39;00m\u001b[38;5;21;01m.\u001b[39;00m\u001b[38;5;21;01mtree\u001b[39;00m \u001b[38;5;28;01mimport\u001b[39;00m  DecisionTreeClassifier \u001b[38;5;66;03m#package.module then class\u001b[39;00m\n\u001b[0;32m----> 4\u001b[0m \u001b[38;5;28;01mfrom\u001b[39;00m \u001b[38;5;21;01msklearn\u001b[39;00m\u001b[38;5;21;01m.\u001b[39;00m\u001b[38;5;21;01mexternals\u001b[39;00m \u001b[38;5;28;01mimport\u001b[39;00m joblib\n\u001b[1;32m      8\u001b[0m p \u001b[38;5;241m=\u001b[39m Path (\u001b[38;5;124m\"\u001b[39m\u001b[38;5;124m/Users/lilbarbar/Desktop/music.csv\u001b[39m\u001b[38;5;124m\"\u001b[39m)\n\u001b[1;32m      9\u001b[0m music_data \u001b[38;5;241m=\u001b[39m pd\u001b[38;5;241m.\u001b[39mread_csv(p)\n",
      "\u001b[0;31mImportError\u001b[0m: cannot import name 'joblib' from 'sklearn.externals' (/Users/lilbarbar/anaconda3/lib/python3.10/site-packages/sklearn/externals/__init__.py)"
     ]
    }
   ],
   "source": [
    "import pandas as pd\n",
    "from pathlib import Path\n",
    "from sklearn.tree import  DecisionTreeClassifier #package.module then class\n",
    "from sklearn.externals import joblib\n",
    "\n",
    "\n",
    "\n",
    "p = Path (\"/Users/lilbarbar/Desktop/music.csv\")\n",
    "music_data = pd.read_csv(p)\n",
    "X = music_data.drop (columns = [\"genre\"]) #drops (removes) that column from data sit for X\n",
    "Y = music_data[\"genre\"]\n",
    "\n",
    "\n",
    "\n",
    "\n",
    "\n",
    "model = DecisionTreeClassifier()\n",
    "model.fit(X, Y)\n",
    "\n",
    "\n",
    "\n",
    "\n",
    "model = joblib.load ( \"music-recommender.joblib\")\n",
    "\n",
    "\n",
    "\n",
    "\n",
    "\n",
    "#1 - male\n",
    "#0 - female\n",
    "predictions = model.predict ( [ [21,1]]  )\n",
    "\n",
    "predictions\n",
    "\n",
    "\n",
    "\n",
    "#70-80% of data for trqining, rest for testing"
   ]
  },
  {
   "cell_type": "code",
   "execution_count": 120,
   "id": "449eaf3a",
   "metadata": {},
   "outputs": [],
   "source": [
    "import pandas as pd\n",
    "from pathlib import Path\n",
    "from sklearn.tree import  DecisionTreeClassifier #package.module then class\n",
    "\n",
    "from sklearn.model_selection import train_test_split\n",
    "\n",
    "from sklearn.metrics import accuracy_score\n",
    "\n",
    "\n",
    "from sklearn import tree\n",
    "\n",
    "\n",
    "\n",
    "p = Path (\"/Users/lilbarbar/Desktop/music.csv\")\n",
    "music_data = pd.read_csv(p)\n",
    "X = music_data.drop (columns = [\"genre\"]) #drops (removes) that column from data sit for X\n",
    "Y = music_data[\"genre\"]\n",
    "\n",
    "\n",
    "\n",
    "\n",
    "\n",
    "model = DecisionTreeClassifier()\n",
    "model.fit(X,Y)\n",
    "\n",
    "\n",
    "\n",
    "\n",
    "\n",
    "\n",
    "\n",
    "tree.export_graphviz (model, out_file= \"music-recommender.dot\", \n",
    "                      feature_names = ['age', 'gender'],\n",
    "                      class_names=sorted(Y.unique()), \n",
    "                      label =\"all\", \n",
    "                      rounded=True, \n",
    "                      filled=True)"
   ]
  },
  {
   "cell_type": "code",
   "execution_count": null,
   "id": "ff5c9d9b",
   "metadata": {},
   "outputs": [],
   "source": []
  }
 ],
 "metadata": {
  "kernelspec": {
   "display_name": "Python 3 (ipykernel)",
   "language": "python",
   "name": "python3"
  },
  "language_info": {
   "codemirror_mode": {
    "name": "ipython",
    "version": 3
   },
   "file_extension": ".py",
   "mimetype": "text/x-python",
   "name": "python",
   "nbconvert_exporter": "python",
   "pygments_lexer": "ipython3",
   "version": "3.10.9"
  },
  "vscode": {
   "interpreter": {
    "hash": "aee8b7b246df8f9039afb4144a1f6fd8d2ca17a180786b69acc140d282b71a49"
   }
  }
 },
 "nbformat": 4,
 "nbformat_minor": 5
}
